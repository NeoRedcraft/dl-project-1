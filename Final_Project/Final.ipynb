{
  "cells": [
    {
      "cell_type": "markdown",
      "source": [
        "# Section 1: Introduction to the Problem\n",
        "\n",
        "hello world"
      ],
      "metadata": {
        "id": "RUZruicCB8lx"
      },
      "id": "RUZruicCB8lx"
    },
    {
      "cell_type": "markdown",
      "source": [
        "# Section 2: Dataset Description\n",
        "\n",
        "[Provide a brief description of the dataset]\n",
        "\n",
        "\n",
        "\n"
      ],
      "metadata": {
        "id": "MyRuxA2HCMbf"
      },
      "id": "MyRuxA2HCMbf"
    },
    {
      "cell_type": "markdown",
      "source": [
        "## Section 2.1 : Source of the dataset\n",
        "[State the source of the dataset and how it was collected.]"
      ],
      "metadata": {
        "id": "anMkQtOsLHny"
      },
      "id": "anMkQtOsLHny"
    },
    {
      "cell_type": "code",
      "source": [
        "# insert the google drive dataset"
      ],
      "metadata": {
        "id": "h6dsqTMbLFkI"
      },
      "id": "h6dsqTMbLFkI",
      "execution_count": null,
      "outputs": []
    },
    {
      "cell_type": "markdown",
      "source": [
        "## Section 2.2: Dataset Structure\n",
        "[Explain the dataset structure (number of images, labels, categories)]"
      ],
      "metadata": {
        "id": "lDdokOuVLOIr"
      },
      "id": "lDdokOuVLOIr"
    },
    {
      "cell_type": "code",
      "source": [
        "# insert visualization"
      ],
      "metadata": {
        "id": "-3MbOaUQLOxd"
      },
      "id": "-3MbOaUQLOxd",
      "execution_count": null,
      "outputs": []
    },
    {
      "cell_type": "markdown",
      "source": [
        "## Section 2.3: Preprocessing Steps\n",
        "[Discuss any preprocessing steps applied (resizing, augmentation, annotation formats,\n",
        "etc.)]"
      ],
      "metadata": {
        "id": "2rhkp5P_LUL9"
      },
      "id": "2rhkp5P_LUL9"
    },
    {
      "cell_type": "code",
      "source": [
        "# insert example images from google drive"
      ],
      "metadata": {
        "id": "PC2chyZaLUvt"
      },
      "id": "PC2chyZaLUvt",
      "execution_count": null,
      "outputs": []
    },
    {
      "cell_type": "markdown",
      "source": [
        "# Section 3: Requirements\n",
        "\n",
        "## Python Libraries Used"
      ],
      "metadata": {
        "id": "TrqQhrGzCS5H"
      },
      "id": "TrqQhrGzCS5H"
    },
    {
      "cell_type": "code",
      "source": [
        "# insert libraries"
      ],
      "metadata": {
        "id": "y1UeukUvCz_r"
      },
      "id": "y1UeukUvCz_r",
      "execution_count": null,
      "outputs": []
    },
    {
      "cell_type": "markdown",
      "source": [
        "# Section 4: Model Training\n",
        "\n",
        "[Describe the model architecture and training pipeline.]"
      ],
      "metadata": {
        "id": "VNYHwCfgCu97"
      },
      "id": "VNYHwCfgCu97"
    },
    {
      "cell_type": "markdown",
      "source": [
        "## Section 4.1: Training Hyperparameters\n",
        "\n",
        "[Show training hyperparameters (learning rate, batch size, epochs).]"
      ],
      "metadata": {
        "id": "agyIQJZ4G5Yu"
      },
      "id": "agyIQJZ4G5Yu"
    },
    {
      "cell_type": "code",
      "source": [],
      "metadata": {
        "id": "oSBiA7MLEAS9"
      },
      "id": "oSBiA7MLEAS9",
      "execution_count": null,
      "outputs": []
    },
    {
      "cell_type": "markdown",
      "source": [
        "## Section 4.2: Performance Metrics\n",
        "\n",
        "[Report performance metrics (mAP, IoU, precision, recall)]"
      ],
      "metadata": {
        "id": "zpEhd8eDHCGk"
      },
      "id": "zpEhd8eDHCGk"
    },
    {
      "cell_type": "code",
      "source": [],
      "metadata": {
        "id": "sKRcSgCGHTI5"
      },
      "id": "sKRcSgCGHTI5",
      "execution_count": null,
      "outputs": []
    },
    {
      "cell_type": "markdown",
      "source": [
        "## Section 4.3: Model Checkpoints\n",
        "\n",
        "[Save and document model checkpoints]"
      ],
      "metadata": {
        "id": "OPvy6vDMHbJb"
      },
      "id": "OPvy6vDMHbJb"
    },
    {
      "cell_type": "code",
      "source": [],
      "metadata": {
        "id": "6Wip1PkmHjjr"
      },
      "id": "6Wip1PkmHjjr",
      "execution_count": null,
      "outputs": []
    },
    {
      "cell_type": "markdown",
      "source": [
        "# Section 5: Model Testing (Unseen Data)\n",
        "\n",
        "[Explain your train/val/test split strategy. ]"
      ],
      "metadata": {
        "id": "32OlzehIDBI6"
      },
      "id": "32OlzehIDBI6"
    },
    {
      "cell_type": "markdown",
      "source": [
        "## Section 5.1: Performance Metrics on Test set\n",
        "\n",
        "[Report final metrics on this held-out test set (e.g., mAP@.5:.95, IoU,\n",
        "precision/recall per class),]"
      ],
      "metadata": {
        "id": "bl0Z20KKNFgQ"
      },
      "id": "bl0Z20KKNFgQ"
    },
    {
      "cell_type": "code",
      "source": [],
      "metadata": {
        "id": "daF-QZgKEBZl"
      },
      "id": "daF-QZgKEBZl",
      "execution_count": null,
      "outputs": []
    },
    {
      "cell_type": "markdown",
      "source": [
        "## Section 5.2: Example of Dectections and Segmentations\n",
        "\n",
        "[ present visual examples of detections/segmentations. Discuss\n",
        "generalization, failure cases, and how results differ from validation.]"
      ],
      "metadata": {
        "id": "0EHC0DzzNN7D"
      },
      "id": "0EHC0DzzNN7D"
    },
    {
      "cell_type": "code",
      "source": [],
      "metadata": {
        "id": "n_OqOr6KOSF8"
      },
      "id": "n_OqOr6KOSF8",
      "execution_count": null,
      "outputs": []
    },
    {
      "cell_type": "markdown",
      "source": [
        "# Section 6: Web Deployment\n",
        "\n",
        "[About the deployment]"
      ],
      "metadata": {
        "id": "vVX87evlDHvw"
      },
      "id": "vVX87evlDHvw"
    },
    {
      "cell_type": "markdown",
      "source": [
        "## 6.1: Streamlit Guide"
      ],
      "metadata": {
        "id": "v3Usz2RbryGd"
      },
      "id": "v3Usz2RbryGd"
    },
    {
      "cell_type": "code",
      "source": [
        "# insert"
      ],
      "metadata": {
        "id": "lmeWUcVXESI3"
      },
      "id": "lmeWUcVXESI3",
      "execution_count": null,
      "outputs": []
    },
    {
      "cell_type": "markdown",
      "source": [
        "### 6.1.1: User Uploded Image and Run Interface"
      ],
      "metadata": {
        "id": "-VSWii8otSfG"
      },
      "id": "-VSWii8otSfG"
    },
    {
      "cell_type": "code",
      "source": [
        "# insert"
      ],
      "metadata": {
        "id": "NHxFT0F-tgZC"
      },
      "id": "NHxFT0F-tgZC",
      "execution_count": null,
      "outputs": []
    },
    {
      "cell_type": "markdown",
      "source": [
        "### 6.1.2: Display Detection and Segmentation Results"
      ],
      "metadata": {
        "id": "teiE6bHctkMG"
      },
      "id": "teiE6bHctkMG"
    },
    {
      "cell_type": "code",
      "source": [
        "# insert"
      ],
      "metadata": {
        "id": "eVmb_FmUts7v"
      },
      "id": "eVmb_FmUts7v",
      "execution_count": null,
      "outputs": []
    },
    {
      "cell_type": "markdown",
      "source": [
        "# Section 7: Results and Analysis\n",
        "\n",
        "[Overall Performance]"
      ],
      "metadata": {
        "id": "wbMX3DlCD_UO"
      },
      "id": "wbMX3DlCD_UO"
    },
    {
      "cell_type": "markdown",
      "source": [
        "## Section 7.1: Quantative Results and Analysis\n",
        "\n",
        "[metrics - Discuss strengths, weaknesses, and edge cases.]"
      ],
      "metadata": {
        "id": "i62_TD3MumqU"
      },
      "id": "i62_TD3MumqU"
    },
    {
      "cell_type": "code",
      "source": [
        "#insert"
      ],
      "metadata": {
        "id": "4qFym4-VvPc7"
      },
      "id": "4qFym4-VvPc7",
      "execution_count": null,
      "outputs": []
    },
    {
      "cell_type": "markdown",
      "source": [
        "## Section 7.2: Qualitative Results and Analysis\n",
        "\n",
        "[visual examples - Discuss strengths, weaknesses, and edge cases.]"
      ],
      "metadata": {
        "id": "PSCT6zZAvRK-"
      },
      "id": "PSCT6zZAvRK-"
    },
    {
      "cell_type": "code",
      "source": [
        "#insert"
      ],
      "metadata": {
        "id": "ZF5GfbH3v8k4"
      },
      "id": "ZF5GfbH3v8k4",
      "execution_count": null,
      "outputs": []
    },
    {
      "cell_type": "markdown",
      "source": [
        "# Section 8 Documentation\n",
        "\n",
        "[IEEE Paper]"
      ],
      "metadata": {
        "id": "bWsVaJEPElLr"
      },
      "id": "bWsVaJEPElLr"
    },
    {
      "cell_type": "markdown",
      "source": [
        "## Section 8.1: Abstract"
      ],
      "metadata": {
        "id": "x218RHdNxGLB"
      },
      "id": "x218RHdNxGLB"
    },
    {
      "cell_type": "markdown",
      "source": [
        "## Section 8.2: Introduction"
      ],
      "metadata": {
        "id": "DbfNyFy6xL7z"
      },
      "id": "DbfNyFy6xL7z"
    },
    {
      "cell_type": "markdown",
      "source": [
        "## Section 8.3: Methodology\n",
        "[dataset, model, training, deployment]"
      ],
      "metadata": {
        "id": "bLgoBbGmxQRD"
      },
      "id": "bLgoBbGmxQRD"
    },
    {
      "cell_type": "markdown",
      "source": [
        "## Section 8.4: Results and Discussion"
      ],
      "metadata": {
        "id": "Lj9fcIhPxXXa"
      },
      "id": "Lj9fcIhPxXXa"
    },
    {
      "cell_type": "markdown",
      "source": [
        "## Section 8.5: Conclusion and Future Work"
      ],
      "metadata": {
        "id": "mdl6Bw0xxbnO"
      },
      "id": "mdl6Bw0xxbnO"
    },
    {
      "cell_type": "markdown",
      "source": [
        "## Section 8.6: References\n",
        "[IEEE style]"
      ],
      "metadata": {
        "id": "0zoS36UkxgLZ"
      },
      "id": "0zoS36UkxgLZ"
    },
    {
      "cell_type": "markdown",
      "source": [
        "# Section 9: Insights and conclusion\n",
        "\n",
        "[Summarize what your group learned about building an computer vision system. Discuss the\n",
        "strengths and limitations and suggest areas for future improvement.]"
      ],
      "metadata": {
        "id": "Eornl8rpEriy"
      },
      "id": "Eornl8rpEriy"
    },
    {
      "cell_type": "markdown",
      "source": [
        "# Section 10: References\n",
        "\n",
        "[Cite relevant references that you used in your project. All references must be cited, including:]"
      ],
      "metadata": {
        "id": "dZB4C4GbEyAh"
      },
      "id": "dZB4C4GbEyAh"
    },
    {
      "cell_type": "markdown",
      "source": [
        "## Section 10.1: Scholarly Articles\n",
        "[Cite in APA format, and put a description of how you used it for your work.]"
      ],
      "metadata": {
        "id": "5l4QgSq-ytSh"
      },
      "id": "5l4QgSq-ytSh"
    },
    {
      "cell_type": "markdown",
      "source": [
        "## Section 10.2: Online References\n",
        "[Put the website, blog, or article title, link, and how you incorporated it into your\n",
        "work]"
      ],
      "metadata": {
        "id": "8O_Ke9uzzEt8"
      },
      "id": "8O_Ke9uzzEt8"
    },
    {
      "cell_type": "markdown",
      "source": [
        "## Section 10.3: Artifical Intelligence Tools\n",
        "[Put the model used (e.g., ChatGPT, Gemini), the complete transcript of your\n",
        "conversations with the model (including your prompts and its responses), and a\n",
        "description of how you used it for your work.]"
      ],
      "metadata": {
        "id": "gNz7IWAYzPP_"
      },
      "id": "gNz7IWAYzPP_"
    }
  ],
  "metadata": {
    "kernelspec": {
      "display_name": "base",
      "language": "python",
      "name": "python3"
    },
    "language_info": {
      "codemirror_mode": {
        "name": "ipython",
        "version": 3
      },
      "file_extension": ".py",
      "mimetype": "text/x-python",
      "name": "python",
      "nbconvert_exporter": "python",
      "pygments_lexer": "ipython3",
      "version": "3.12.3"
    },
    "colab": {
      "provenance": []
    }
  },
  "nbformat": 4,
  "nbformat_minor": 5
}